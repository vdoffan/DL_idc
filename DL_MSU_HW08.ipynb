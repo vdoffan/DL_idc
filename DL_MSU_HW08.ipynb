{
 "cells": [
  {
   "cell_type": "markdown",
   "metadata": {
    "id": "FszmDROF12gL"
   },
   "source": [
    "## Домашнее задание №8.\n",
    "### Генерация поэзии с помощью нейронных сетей: шаг 1\n",
    "##### Авторы: [Радослав Нейчев](https://www.linkedin.com/in/radoslav-neychev/), Горохов Олег\n",
    "\n",
    "Ваша основная задача: научиться генерировать стихи с помощью простой рекуррентной нейронной сети (Vanilla RNN). В качестве корпуса текстов для обучения будет выступать роман в стихах \"Евгений Онегин\" Александра Сергеевича Пушкина."
   ]
  },
  {
   "cell_type": "code",
   "execution_count": 1,
   "metadata": {
    "id": "VK6EUBMt12gN"
   },
   "outputs": [],
   "source": [
    "# Не меняйте блок кода ниже! Здесь указаны все необходимые import-ы\n",
    "# __________start of block__________\n",
    "import string\n",
    "import os\n",
    "from random import sample\n",
    "\n",
    "import numpy as np\n",
    "import torch, torch.nn as nn\n",
    "import torch.nn.functional as F\n",
    "\n",
    "from IPython.display import clear_output\n",
    "\n",
    "import matplotlib.pyplot as plt\n",
    "%matplotlib inline\n",
    "# __________end of block__________"
   ]
  },
  {
   "cell_type": "code",
   "execution_count": 2,
   "metadata": {
    "colab": {
     "base_uri": "https://localhost:8080/"
    },
    "id": "VEC9Irlo12gO",
    "outputId": "a5a97c97-2df9-4aa3-fac0-a2aedaa11462"
   },
   "outputs": [
    {
     "name": "stdout",
     "output_type": "stream",
     "text": [
      "cuda device is available\n"
     ]
    }
   ],
   "source": [
    "# Не меняйте блок кода ниже!\n",
    "# __________start of block__________\n",
    "device = torch.device('cuda') if torch.cuda.is_available() else torch.device('cpu')\n",
    "print('{} device is available'.format(device))\n",
    "# __________end of block__________"
   ]
  },
  {
   "cell_type": "markdown",
   "metadata": {
    "id": "MPenWOy01Ooa",
    "outputId": "a92e8e33-e009-4bd4-ac12-3b1b5e1cd3f2"
   },
   "source": [
    "#### 1. Загрузка данных."
   ]
  },
  {
   "cell_type": "code",
   "execution_count": 3,
   "metadata": {
    "colab": {
     "base_uri": "https://localhost:8080/"
    },
    "id": "OhD8UJzN12gP",
    "outputId": "5784c0dc-e1a4-4458-eddc-6652e91f9ea5"
   },
   "outputs": [
    {
     "name": "stderr",
     "output_type": "stream",
     "text": [
      "Downloading...\n",
      "From: https://raw.githubusercontent.com/MSUcourses/Data-Analysis-with-Python/main/Deep%20Learning/onegin_hw07.txt\n",
      "To: c:\\Users\\vdoff\\Desktop\\DL\\onegin.txt\n",
      "\n",
      "  0%|          | 0.00/82.7k [00:00<?, ?B/s]\n",
      "263kB [00:00, 5.80MB/s]                    \n"
     ]
    }
   ],
   "source": [
    "# do not change the code in the block below\n",
    "# __________start of block__________\n",
    "!gdown https://raw.githubusercontent.com/MSUcourses/Data-Analysis-with-Python/main/Deep%20Learning/onegin_hw07.txt -O ./onegin.txt\n",
    "\n",
    "with open('onegin.txt', 'r', encoding='utf8') as iofile:\n",
    "    text = iofile.readlines()\n",
    "\n",
    "text = \"\".join([x.replace('\\t\\t', '').lower() for x in text]) # Убираем лишние символы табуляций, приводим все буквы к нижнему регистру\n",
    "# __________end of block__________"
   ]
  },
  {
   "cell_type": "markdown",
   "metadata": {
    "id": "rR6n1UmvZ8DC"
   },
   "source": [
    "Выведем несколько первых символов входного текста. Видим, что символы табуляций удалены, буквы приведены к нижнему регистру. Символы \\n мы оставляем - чтобы научить сеть генерировать символ \\n, когда нужно перейти на новую строку."
   ]
  },
  {
   "cell_type": "code",
   "execution_count": 4,
   "metadata": {
    "colab": {
     "base_uri": "https://localhost:8080/",
     "height": 35
    },
    "id": "ksrWh_hvZsY_",
    "outputId": "5253bfc4-35be-4a91-cd98-13dbf86a8e61"
   },
   "outputs": [
    {
     "data": {
      "text/plain": [
       "'\\ni\\n\\n«мой дядя самых честных правил,\\n'"
      ]
     },
     "execution_count": 4,
     "metadata": {},
     "output_type": "execute_result"
    }
   ],
   "source": [
    "text[:36]"
   ]
  },
  {
   "cell_type": "markdown",
   "metadata": {
    "id": "XQYpmGfR_gJ8"
   },
   "source": [
    "#### 2. Построение словаря и предобработка текста\n",
    "В данном задании требуется построить языковую модель на уровне символов. Приведем весь текст к нижнему регистру и построим словарь из всех символов в доступном корпусе текстов. Также добавим технический токен `<sos>`."
   ]
  },
  {
   "cell_type": "code",
   "execution_count": 5,
   "metadata": {
    "colab": {
     "base_uri": "https://localhost:8080/"
    },
    "id": "FyYTS2kC12gQ",
    "outputId": "87ec6b3b-b4e3-4ff4-f419-69d5226da6c4"
   },
   "outputs": [
    {
     "name": "stdout",
     "output_type": "stream",
     "text": [
      "Seems fine!\n"
     ]
    }
   ],
   "source": [
    "# Не меняйте блок кода ниже!\n",
    "# __________start of block__________\n",
    "tokens = sorted(set(text.lower())) + ['<sos>'] # Строим множество всех токенов-символов и добавляем к нему служебный токен <sos>\n",
    "num_tokens = len(tokens)\n",
    "\n",
    "assert num_tokens == 84, \"Check the tokenization process\"\n",
    "\n",
    "token_to_idx = {x: idx for idx, x in enumerate(tokens)} # Строим словарь с ключами-токенами и значениями-индексами в списке токенов\n",
    "idx_to_token = {idx: x for idx, x in enumerate(tokens)} # Строим обратный словарь (чтобы по индексу можно было получить токен)\n",
    "\n",
    "assert len(tokens) == len(token_to_idx), \"Mapping should be unique\"\n",
    "\n",
    "print(\"Seems fine!\")\n",
    "\n",
    "\n",
    "text_encoded = [token_to_idx[x] for x in text]\n",
    "# __________end of block__________"
   ]
  },
  {
   "cell_type": "markdown",
   "metadata": {
    "id": "ITona8rr12gQ"
   },
   "source": [
    "__Ваша задача__: обучить классическую рекуррентную нейронную сеть (Vanilla RNN) предсказывать следующий символ на полученном корпусе текстов и сгенерировать последовательность длины 100 для фиксированной начальной фразы.\n",
    "\n",
    "Вы можете воспользоваться кодом с занятия №6 или же обратиться к следующим ссылкам:\n",
    "* Замечательная статья за авторством Andrej Karpathy об использовании RNN: [link](http://karpathy.github.io/2015/05/21/rnn-effectiveness/)\n",
    "* Пример char-rnn от Andrej Karpathy: [github repo](https://github.com/karpathy/char-rnn)\n",
    "* Замечательный пример генерации поэзии Шекспира: [github repo](https://github.com/spro/practical-pytorch/blob/master/char-rnn-generation/char-rnn-generation.ipynb)\n",
    "\n",
    "Данное задание является достаточно творческим. Не страшно, если поначалу оно вызывает затруднения. Последняя ссылка в списке выше может быть особенно полезна в данном случае.\n",
    "\n",
    "Далее для вашего удобства реализована функция, которая генерирует случайный батч размера `batch_size` из строк длиной `seq_length`. Вы можете использовать его при обучении модели."
   ]
  },
  {
   "cell_type": "code",
   "execution_count": 6,
   "metadata": {
    "id": "B1R2KoN212gQ"
   },
   "outputs": [],
   "source": [
    "# Не меняйте код ниже\n",
    "# __________start of block__________\n",
    "batch_size = 256 # Размер батча. Батч - это набор последовательностей символов.\n",
    "seq_length = 100 # Максимальная длина одной последовательности символов в батче\n",
    "start_column = np.zeros((batch_size, 1), dtype=int) + token_to_idx['<sos>'] # Добавляем в начало каждой строки технический символ - для определения начального состояния сети\n",
    "\n",
    "def generate_chunk():\n",
    "    global text_encoded, start_column, batch_size, seq_length\n",
    "\n",
    "    start_index = np.random.randint(0, len(text_encoded) - batch_size*seq_length - 1) # Случайным образом выбираем индекс начального символа в батче\n",
    "    # Строим непрерывный батч.\n",
    "    # Для этого выбираем в исходном тексте подпоследовательность, которая начинается с индекса start_index и имеет размер batch_size*seq_length.\n",
    "    # Затем мы делим эту подпоследовательность на batch_size последовательностей размера seq_length. Это и будет батч, матрица размера batch_size*seq_length.\n",
    "    # В каждой строке матрицы будут указаны индексы\n",
    "    data = np.array(text_encoded[start_index:start_index + batch_size*seq_length]).reshape((batch_size, -1))\n",
    "    yield np.hstack((start_column, data))\n",
    "# __________end of block__________"
   ]
  },
  {
   "cell_type": "markdown",
   "metadata": {
    "id": "SHohQt0V12gR"
   },
   "source": [
    "Пример батча:"
   ]
  },
  {
   "cell_type": "code",
   "execution_count": 7,
   "metadata": {
    "colab": {
     "base_uri": "https://localhost:8080/"
    },
    "id": "jyuWYgeZ12gR",
    "outputId": "1fecf762-731c-4713-dce1-02c73841f341"
   },
   "outputs": [
    {
     "data": {
      "text/plain": [
       "array([[83,  1, 62, ..., 47, 50, 63],\n",
       "       [83, 45,  5, ..., 72, 62, 56],\n",
       "       [83, 50, 54, ..., 61, 59, 55],\n",
       "       ...,\n",
       "       [83, 63,  1, ..., 63, 50, 54],\n",
       "       [83,  0, 60, ..., 59, 61, 76],\n",
       "       [83, 49, 59, ..., 59,  1, 47]])"
      ]
     },
     "execution_count": 7,
     "metadata": {},
     "output_type": "execute_result"
    }
   ],
   "source": [
    "next(generate_chunk())"
   ]
  },
  {
   "cell_type": "markdown",
   "metadata": {
    "id": "MZ5vfEKM12gS"
   },
   "source": [
    "Далее вам предстоит написать код для обучения модели и генерации текста."
   ]
  },
  {
   "cell_type": "code",
   "execution_count": 8,
   "metadata": {
    "id": "7XBmwWxp12gS"
   },
   "outputs": [],
   "source": [
    "# Определение модели Vanilla RNN\n",
    "class VanillaRNN(nn.Module):\n",
    "    def __init__(self, input_size, embed_size, hidden_size, output_size, num_layers=1):\n",
    "        super(VanillaRNN, self).__init__()\n",
    "        self.hidden_size = hidden_size\n",
    "        self.num_layers = num_layers\n",
    "        \n",
    "        # Встраивание символов\n",
    "        self.embedding = nn.Embedding(input_size, embed_size)\n",
    "        \n",
    "        # Рекуррентный слой\n",
    "        self.rnn = nn.RNN(embed_size, hidden_size, num_layers, nonlinearity='tanh', batch_first=True)\n",
    "        \n",
    "        # Полносвязный слой\n",
    "        self.fc = nn.Linear(hidden_size, output_size)\n",
    "    \n",
    "    def forward(self, x, hidden):\n",
    "        # x: (batch_size, seq_length)\n",
    "        embedded = self.embedding(x)  # (batch_size, seq_length, embed_size)\n",
    "        out, hidden = self.rnn(embedded, hidden)  # out: (batch_size, seq_length, hidden_size)\n",
    "        out = out.reshape(out.size(0)*out.size(1), self.hidden_size)  # (batch_size*seq_length, hidden_size)\n",
    "        out = self.fc(out)  # (batch_size*seq_length, output_size)\n",
    "        return out, hidden\n",
    "    \n",
    "    def init_hidden(self, batch_size):\n",
    "        # Инициализация скрытого состояния\n",
    "        return torch.zeros(self.num_layers, batch_size, self.hidden_size).to(device)\n"
   ]
  },
  {
   "cell_type": "code",
   "execution_count": 9,
   "metadata": {},
   "outputs": [],
   "source": [
    "# Гиперпараметры\n",
    "embed_size = 128\n",
    "hidden_size = 256\n",
    "num_layers = 2\n",
    "num_epochs = 2000\n",
    "learning_rate = 0.003\n",
    "\n",
    "# Инициализация модели\n",
    "model = VanillaRNN(input_size=num_tokens, \n",
    "                   embed_size=embed_size, \n",
    "                   hidden_size=hidden_size, \n",
    "                   output_size=num_tokens, \n",
    "                   num_layers=num_layers).to(device)\n",
    "\n",
    "# Функция потерь и оптимизатор\n",
    "criterion = nn.CrossEntropyLoss()\n",
    "optimizer = torch.optim.Adam(model.parameters(), lr=learning_rate)\n"
   ]
  },
  {
   "cell_type": "code",
   "execution_count": 10,
   "metadata": {},
   "outputs": [
    {
     "name": "stdout",
     "output_type": "stream",
     "text": [
      "--- Epoch 100 завершена --- tensor(1.9752, device='cuda:0', grad_fn=<NllLossBackward0>)\n",
      "--- Epoch 200 завершена --- tensor(1.7173, device='cuda:0', grad_fn=<NllLossBackward0>)\n",
      "--- Epoch 300 завершена --- tensor(1.4920, device='cuda:0', grad_fn=<NllLossBackward0>)\n",
      "--- Epoch 400 завершена --- tensor(1.2292, device='cuda:0', grad_fn=<NllLossBackward0>)\n",
      "--- Epoch 500 завершена --- tensor(1.0993, device='cuda:0', grad_fn=<NllLossBackward0>)\n",
      "--- Epoch 600 завершена --- tensor(0.9604, device='cuda:0', grad_fn=<NllLossBackward0>)\n",
      "--- Epoch 700 завершена --- tensor(0.7223, device='cuda:0', grad_fn=<NllLossBackward0>)\n",
      "--- Epoch 800 завершена --- tensor(0.6606, device='cuda:0', grad_fn=<NllLossBackward0>)\n",
      "--- Epoch 900 завершена --- tensor(0.5725, device='cuda:0', grad_fn=<NllLossBackward0>)\n",
      "--- Epoch 1000 завершена --- tensor(0.6021, device='cuda:0', grad_fn=<NllLossBackward0>)\n",
      "--- Epoch 1100 завершена --- tensor(0.4920, device='cuda:0', grad_fn=<NllLossBackward0>)\n",
      "--- Epoch 1200 завершена --- tensor(0.4654, device='cuda:0', grad_fn=<NllLossBackward0>)\n",
      "--- Epoch 1300 завершена --- tensor(0.4979, device='cuda:0', grad_fn=<NllLossBackward0>)\n",
      "--- Epoch 1400 завершена --- tensor(0.4990, device='cuda:0', grad_fn=<NllLossBackward0>)\n",
      "--- Epoch 1500 завершена --- tensor(0.3869, device='cuda:0', grad_fn=<NllLossBackward0>)\n",
      "--- Epoch 1600 завершена --- tensor(0.5046, device='cuda:0', grad_fn=<NllLossBackward0>)\n",
      "--- Epoch 1700 завершена --- tensor(0.4031, device='cuda:0', grad_fn=<NllLossBackward0>)\n",
      "--- Epoch 1800 завершена --- tensor(0.4587, device='cuda:0', grad_fn=<NllLossBackward0>)\n",
      "--- Epoch 1900 завершена --- tensor(0.3813, device='cuda:0', grad_fn=<NllLossBackward0>)\n",
      "--- Epoch 2000 завершена --- tensor(0.4585, device='cuda:0', grad_fn=<NllLossBackward0>)\n"
     ]
    }
   ],
   "source": [
    "# Функция для обучения модели\n",
    "def train(model, epochs, print_every=100):\n",
    "    model.train()\n",
    "    for epoch in range(1, epochs+1):\n",
    "        hidden = model.init_hidden(batch_size)\n",
    "        for batch_idx, batch in enumerate(generate_chunk(), 1):\n",
    "            # Преобразование данных в тензоры\n",
    "            inputs = torch.tensor(batch[:, :-1], dtype=torch.long).to(device)  # (batch_size, seq_length)\n",
    "            targets = torch.tensor(batch[:, 1:], dtype=torch.long).to(device)  # (batch_size, seq_length)\n",
    "            \n",
    "            # Очистка градиентов\n",
    "            optimizer.zero_grad()\n",
    "            \n",
    "            # Прямой проход\n",
    "            outputs, hidden = model(inputs, hidden.detach())\n",
    "            loss = criterion(outputs, targets.reshape(-1))\n",
    "            \n",
    "            # Обратный проход и оптимизация\n",
    "            loss.backward()\n",
    "            optimizer.step()\n",
    "            \n",
    "            if batch_idx % print_every == 0:\n",
    "                print(f'Epoch [{epoch}/{epochs}], Batch [{batch_idx}], Loss: {loss.item():.4f}')\n",
    "        if int(epoch % 100) == 0:\n",
    "            print(f'--- Epoch {epoch} завершена ---', loss)\n",
    "\n",
    "# Запуск обучения\n",
    "train(model, epochs=num_epochs)\n"
   ]
  },
  {
   "cell_type": "markdown",
   "metadata": {
    "id": "YOq8SszD12gS"
   },
   "source": [
    "В качестве иллюстрации ниже доступен график значений функции потерь, построенный в ходе обучения авторской сети (сам код для ее обучения вам и предстоит написать)."
   ]
  },
  {
   "cell_type": "code",
   "execution_count": null,
   "metadata": {
    "id": "p1DVfcmS12gS",
    "outputId": "4cac4ac1-85ce-4088-e67b-5d422008408c"
   },
   "outputs": [
    {
     "data": {
      "image/png": "[encoded data removed]",
      "text/plain": [
       "<Figure size 432x288 with 1 Axes>"
      ]
     },
     "metadata": {
      "needs_background": "light"
     },
     "output_type": "display_data"
    }
   ],
   "source": []
  },
  {
   "cell_type": "markdown",
   "metadata": {
    "id": "aPLGR7Wz12gS"
   },
   "source": [
    "Шаблон функции `generate_sample` также доступен ниже. Вы можете как дозаполнить его, так и написать свою собственную функцию с нуля. Не забывайте, что все примеры в обучающей выборке начинались с токена `<sos>`."
   ]
  },
  {
   "cell_type": "code",
   "execution_count": 11,
   "metadata": {
    "id": "e7ZX-JGi12gS"
   },
   "outputs": [],
   "source": [
    "def generate_sample(char_rnn, seed_phrase=None, max_length=200, temperature=1.0, device=device):\n",
    "    '''\n",
    "    Функция генерирует текст, начиная с заданной начальной фразы.\n",
    "    \n",
    "    :param char_rnn: обученная модель RNN\n",
    "    :param seed_phrase: начальная фраза для генерации текста\n",
    "    :param max_length: максимальная длина генерируемого текста, включая начальную фразу\n",
    "    :param temperature: коэффициент для сэмплинга. \n",
    "                       Высокая температура приводит к более разнообразным результатам, \n",
    "                       низкая температура делает выбор более детерминированным.\n",
    "    :param device: устройство (CPU или GPU), на котором выполняется модель\n",
    "    :return: сгенерированный текст в виде строки\n",
    "    '''\n",
    "    \n",
    "    char_rnn.eval()  # Перевод модели в режим оценки\n",
    "    generated = seed_phrase if seed_phrase else ''\n",
    "    \n",
    "    # Преобразование начальной фразы в индексы\n",
    "    if seed_phrase is not None:\n",
    "        # Начинаем с токена <sos>\n",
    "        x_sequence = [token_to_idx['<sos>']] + [token_to_idx.get(token, token_to_idx['<sos>']) for token in seed_phrase]\n",
    "    else: \n",
    "        x_sequence = [token_to_idx['<sos>']]\n",
    "    \n",
    "    # Преобразуем последовательность в тензор и переносим на устройство\n",
    "    input_tensor = torch.tensor([x_sequence], dtype=torch.long).to(device)  # shape: (1, len(x_sequence))\n",
    "    \n",
    "    # Инициализация скрытого состояния\n",
    "    hidden = char_rnn.init_hidden(1)  # batch_size=1\n",
    "    \n",
    "    with torch.no_grad():\n",
    "        # Пропуск начальной фразы через модель\n",
    "        for i in range(len(x_sequence)-1):\n",
    "            current_input = input_tensor[:, i].unsqueeze(1)  # shape: (1, 1)\n",
    "            output, hidden = char_rnn(current_input, hidden)\n",
    "        \n",
    "        # Получение последнего символа из начальной фразы\n",
    "        last_char = input_tensor[:, -1].unsqueeze(1)  # shape: (1, 1)\n",
    "        \n",
    "        for _ in range(max_length - len(x_sequence) + 1):\n",
    "            output, hidden = char_rnn(last_char, hidden)  # output: (1*1, num_tokens)\n",
    "            \n",
    "            # Применение температуры\n",
    "            logits = output / temperature\n",
    "            probs = F.softmax(logits, dim=1).cpu().numpy().squeeze()\n",
    "            \n",
    "            # Выбор следующего символа на основе распределения вероятностей\n",
    "            next_char_idx = np.random.choice(len(probs), p=probs)\n",
    "            next_char = idx_to_token[next_char_idx]\n",
    "            \n",
    "            # Добавление следующего символа к сгенерированному тексту\n",
    "            generated += next_char\n",
    "            \n",
    "            # Подготовка следующего ввода\n",
    "            last_char = torch.tensor([[next_char_idx]], dtype=torch.long).to(device)\n",
    "    \n",
    "    return generated\n"
   ]
  },
  {
   "cell_type": "markdown",
   "metadata": {
    "id": "if0Zdsq_12gS"
   },
   "source": [
    "Пример текста сгенерированного обученной моделью доступен ниже. Не страшно, что в тексте много несуществующих слов. Используемая модель очень проста: это простая классическая RNN."
   ]
  },
  {
   "cell_type": "code",
   "execution_count": 12,
   "metadata": {
    "id": "yF-Iuqmw12gS",
    "outputId": "6f95b0e9-b5e9-42b7-9222-6a4d0d21e896"
   },
   "outputs": [
    {
     "name": "stdout",
     "output_type": "stream",
     "text": [
      " мой дядя самых честных правил\n",
      "он твоя важно роковый детьмирать?» —\n",
      "«не мольно голоиной,\n",
      "выходят котроду, четвертый.\n",
      "я их имею поэт\n",
      "во-прежнему сердечно обман\n",
      "диш она, как люблю такого оборые. суждений\n",
      "хать предо мной;\n",
      "благословен и это грустит он и госты!\n",
      "\n",
      "\n",
      "\n",
      "xxvii\n",
      "\n",
      "«не слушать забываться желает\n",
      "такой бесчувственно-покорна,\n",
      "не может ольгою преданной\n",
      "привлече суровым повелела!\n",
      "«я важны взоры,\n",
      "и с оходит в отких и томный вис одушевнов\n",
      "издни роман,\n",
      "с такою душой.\n",
      "ромний целью в зеркало ленский; хох\n"
     ]
    }
   ],
   "source": [
    "print(generate_sample(model, ' мой дядя самых честных правил', max_length=500, temperature=0.8))"
   ]
  },
  {
   "cell_type": "markdown",
   "metadata": {
    "id": "YwFvHiKP12gS"
   },
   "source": [
    "### Сдача задания\n",
    "Сгенерируйте десять последовательностей длиной 500, используя строку ' мой дядя самых честных правил'. Температуру для генерации выберите самостоятельно на основании визуального качества генериуремого текста. Не забудьте удалить все технические токены в случае их наличия.\n",
    "\n",
    "Сгенерированную последовательность сохрание в переменную `generated_phrase` и сдайте сгенерированный ниже файл в контест."
   ]
  },
  {
   "cell_type": "code",
   "execution_count": 13,
   "metadata": {
    "id": "sB5p9j9T12gT"
   },
   "outputs": [],
   "source": [
    "seed_phrase = ' мой дядя самых честных правил'"
   ]
  },
  {
   "cell_type": "code",
   "execution_count": 14,
   "metadata": {
    "id": "Qe9T5-Op12gT"
   },
   "outputs": [],
   "source": [
    "\n",
    "generated_phrases = [\n",
    "    generate_sample(\n",
    "        model,\n",
    "        ' мой дядя самых честных правил',\n",
    "        max_length=500,\n",
    "        temperature=1.\n",
    "    ).replace('<sos>', '')\n",
    "    for _ in range(10)\n",
    "]"
   ]
  },
  {
   "cell_type": "code",
   "execution_count": 15,
   "metadata": {
    "id": "kKTbJtIi12gT"
   },
   "outputs": [
    {
     "name": "stdout",
     "output_type": "stream",
     "text": [
      "File saved to `submission_dict_hw07.npy`\n"
     ]
    }
   ],
   "source": [
    "# do not change the code in the block below\n",
    "# __________start of block__________\n",
    "\n",
    "if 'generated_phrases' not in locals():\n",
    "    raise ValueError(\"Please, save generated phrases to `generated_phrases` variable\")\n",
    "\n",
    "for phrase in generated_phrases:\n",
    "\n",
    "    if not isinstance(phrase, str):\n",
    "        raise ValueError(\"The generated phrase should be a string\")\n",
    "\n",
    "    if len(phrase) != 500:\n",
    "        raise ValueError(\"The `generated_phrase` length should be equal to 500\")\n",
    "\n",
    "    assert all([x in set(tokens) for x in set(list(phrase))]), 'Unknown tokens detected, check your submission!'\n",
    "\n",
    "\n",
    "submission_dict = {\n",
    "    'token_to_idx': token_to_idx,\n",
    "    'generated_phrases': generated_phrases\n",
    "}\n",
    "\n",
    "np.save('submission_dict_hw07.npy', submission_dict, allow_pickle=True)\n",
    "print('File saved to `submission_dict_hw07.npy`')\n",
    "# __________end of block__________"
   ]
  },
  {
   "cell_type": "markdown",
   "metadata": {
    "id": "l7ONIO0612gT"
   },
   "source": [
    "На этом задание завершено. Поздравляем!"
   ]
  }
 ],
 "metadata": {
  "accelerator": "GPU",
  "anaconda-cloud": {},
  "colab": {
   "provenance": []
  },
  "kernelspec": {
   "display_name": ".venv",
   "language": "python",
   "name": "python3"
  },
  "language_info": {
   "codemirror_mode": {
    "name": "ipython",
    "version": 3
   },
   "file_extension": ".py",
   "mimetype": "text/x-python",
   "name": "python",
   "nbconvert_exporter": "python",
   "pygments_lexer": "ipython3",
   "version": "3.12.5"
  }
 },
 "nbformat": 4,
 "nbformat_minor": 0
}
